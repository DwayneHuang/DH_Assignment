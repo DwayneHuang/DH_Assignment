{
  "cells": [
    {
      "cell_type": "code",
      "execution_count": 7,
      "id": "957cdbf5",
      "metadata": {
        "colab": {
          "base_uri": "https://localhost:8080/"
        },
        "id": "957cdbf5",
        "outputId": "d93d5182-350a-46c4-d48d-f8beec5fdee9"
      },
      "outputs": [
        {
          "output_type": "stream",
          "name": "stdout",
          "text": [
            "Image saved successfully: Night view/1.jpg\n",
            "Image saved successfully: Night view/2.jpg\n",
            "Image saved successfully: Night view/3.jpg\n",
            "Image saved successfully: Night view/4.jpg\n",
            "Image saved successfully: Night view/5.jpg\n",
            "Image saved successfully: Night view/6.jpg\n",
            "Image saved successfully: Night view/7.jpg\n",
            "Image saved successfully: Night view/8.jpg\n",
            "Image saved successfully: Night view/9.jpg\n",
            "Image saved successfully: Night view/10.jpg\n"
          ]
        }
      ],
      "source": [
        "import requests\n",
        "from PIL import Image\n",
        "from io import BytesIO\n",
        "import os\n",
        "import json\n",
        "\n",
        "# Imput JSON dataset\n",
        "url = 'https://raw.githubusercontent.com/DwayneHuang/DH_Assignment/e285d79418cdc4cec9bc685bd4bbcc07f62c8c81/clipsubset%20(Night%20view).json'\n",
        "response = requests.get(url)\n",
        "json_data = response.json()\n",
        "\n",
        "# Load image data\n",
        "image_paths = [d[\"url\"] for d in json_data]\n",
        "\n",
        "# Set the target size of the images\n",
        "width, height = 512, 512\n",
        "\n",
        "# Define a function to download and save images\n",
        "def download_and_save_image(url, save_path, filename):\n",
        "    try:\n",
        "        # Send a GET request to fetch the image data\n",
        "        response = requests.get(url, timeout=5)\n",
        "        response.raise_for_status()  # Check if the request was successful\n",
        "\n",
        "        # Load the image data into a PIL image object\n",
        "        image = Image.open(BytesIO(response.content))\n",
        "\n",
        "        # Resize the image\n",
        "        image = image.resize((width, height))\n",
        "\n",
        "        # Save the image to the folder\n",
        "        save_filepath = os.path.join(save_path, filename)\n",
        "        image.save(save_filepath)\n",
        "\n",
        "        print(f\"Image saved successfully: {save_filepath}\")\n",
        "    except Exception as e:\n",
        "        print(f\"Error downloading or processing the image: {str(e)}\")\n",
        "\n",
        "# Define the output folder path in Google Colab\n",
        "save_folder = \"Night view\" # Customize the path as needed\n",
        "os.makedirs(save_folder, exist_ok=True)\n",
        "\n",
        "# List of image URLs to download\n",
        "image_urls = image_paths[0:len(image_paths)-1]\n",
        "\n",
        "# Download, process, and save images\n",
        "for i, url in enumerate(image_urls):\n",
        "    # Generate the filename, for example, \"image_1.jpg\", \"image_2.jpg\", ...\n",
        "    filename = f\"{i + 1}.jpg\"\n",
        "    download_and_save_image(url, save_folder, filename)"
      ]
    }
  ],
  "metadata": {
    "kernelspec": {
      "display_name": "Python 3 (ipykernel)",
      "language": "python",
      "name": "python3"
    },
    "language_info": {
      "codemirror_mode": {
        "name": "ipython",
        "version": 3
      },
      "file_extension": ".py",
      "mimetype": "text/x-python",
      "name": "python",
      "nbconvert_exporter": "python",
      "pygments_lexer": "ipython3",
      "version": "3.11.6"
    },
    "colab": {
      "provenance": []
    }
  },
  "nbformat": 4,
  "nbformat_minor": 5
}